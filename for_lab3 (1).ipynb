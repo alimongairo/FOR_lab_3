{
  "nbformat": 4,
  "nbformat_minor": 0,
  "metadata": {
    "colab": {
      "provenance": []
    },
    "kernelspec": {
      "name": "python3",
      "display_name": "Python 3"
    },
    "language_info": {
      "name": "python"
    }
  },
  "cells": [
    {
      "cell_type": "markdown",
      "source": [
        "# Домашее задание 3. Неопределенность оптимального портфеля. Оптимизация CVaR.  \n",
        "Выполнили Пасманик Ирина, Шарибжанова Диана 19ПМИ1\n",
        "\n"
      ],
      "metadata": {
        "id": "LxUmlTvgv7lf"
      }
    },
    {
      "cell_type": "markdown",
      "source": [
        "### Импорт библиотек и скачивание данных"
      ],
      "metadata": {
        "id": "_f0n7hS8jEef"
      }
    },
    {
      "cell_type": "code",
      "execution_count": 1,
      "metadata": {
        "colab": {
          "base_uri": "https://localhost:8080/"
        },
        "id": "SBf9tE-bwBcY",
        "outputId": "67f44670-4a2d-42ca-8605-8c2a1eed3c3c"
      },
      "outputs": [
        {
          "output_type": "stream",
          "name": "stdout",
          "text": [
            "Mounted at /content/drive/\n"
          ]
        }
      ],
      "source": [
        "!pip install yfinance > /dev/null\n",
        "\n",
        "from google.colab import drive\n",
        "drive.mount('/content/drive/')"
      ]
    },
    {
      "cell_type": "code",
      "execution_count": 2,
      "metadata": {
        "id": "lYcJs6fKs1vU"
      },
      "outputs": [],
      "source": [
        "import pandas as pd\n",
        "import numpy as np\n",
        "import yfinance as yf\n",
        "import matplotlib.pyplot as plt\n",
        "import math\n",
        "import scipy\n",
        "import scipy.stats\n",
        "import datetime\n",
        "from scipy.spatial.distance import cityblock\n",
        "from cvxopt import matrix, solvers\n",
        "from scipy.optimize import minimize\n",
        "from IPython.display import clear_output\n",
        "from numpy import inf"
      ]
    },
    {
      "cell_type": "code",
      "source": [
        "data = pd.read_csv('/content/drive/MyDrive/FOR/data.csv')\n",
        "data = data.drop(columns = ['Low', 'High', 'Open', 'Close', 'Volume'])"
      ],
      "metadata": {
        "id": "k6Igr4b0rRZY"
      },
      "execution_count": 3,
      "outputs": []
    },
    {
      "cell_type": "code",
      "source": [
        "all_tickers = list(set(data['Name'])) # creation of data tickers list\n",
        "all_tickers.sort()\n",
        "# all_tickers"
      ],
      "metadata": {
        "id": "TcRexeJSgOlb"
      },
      "execution_count": 4,
      "outputs": []
    },
    {
      "cell_type": "code",
      "source": [
        "# доходность портфеля\n",
        "def calc_portfolio_return(x, means):\n",
        "    return float(np.matmul(x, means.to_numpy()))\n",
        "\n",
        "# риск портфеля\n",
        "def calc_portfolio_volatility(x, cov_matrix):\n",
        "    sigma_sq = float(np.matmul(np.matmul(x, cov_matrix.to_numpy()), x.T))\n",
        "    return sigma_sq**0.5\n",
        "\n",
        "# выборочные средние \n",
        "def calc_sample_means(returns):\n",
        "    tickers = returns.columns\n",
        "    sample_means = pd.DataFrame(columns = ['Sample mean (E)'], index = tickers)\n",
        "    for ticker in tickers:\n",
        "        mean = np.mean(returns[ticker])\n",
        "        sample_means['Sample mean (E)'][ticker] = mean\n",
        "    return sample_means\n",
        "\n",
        "# матрица выборочных ковариаций\n",
        "def calc_sample_cov(returns, sample_means, verbose=True):\n",
        "    tickers = returns.columns\n",
        "    sample_cov = pd.DataFrame(columns = tickers, index = tickers)\n",
        "    status_count = 0\n",
        "    for ticker1 in tickers:    \n",
        "        if verbose:\n",
        "            status_count += 1\n",
        "            clear_output()\n",
        "            print(f\"{status_count}/{len(tickers)}\")\n",
        "\n",
        "        for ticker2 in tickers:\n",
        "            sum_ = 0\n",
        "            N = returns[ticker2].shape[0] # количество наблюдений\n",
        "            for i in range(N):\n",
        "                sum_ += (returns[ticker1][i] - float(sample_means.loc[ticker1])) * (returns[ticker2][i] - float(sample_means.loc[ticker2]))\n",
        "\n",
        "            sample_cov[ticker1][ticker2] = sum_ / (N)\n",
        "    return sample_cov\n",
        "\n",
        "# относительная ошибка в норме Manhattan (cityblock)\n",
        "def calc_relative_cityblock_error(vec_true, vec_pred):\n",
        "    return cityblock(vec_true, vec_pred)/np.linalg.norm(vec_true, ord=1)"
      ],
      "metadata": {
        "id": "ZH-5h2Fp5yXs"
      },
      "execution_count": 5,
      "outputs": []
    },
    {
      "cell_type": "markdown",
      "source": [
        "### **Подготовка.** \n",
        "\n",
        "#### Выберите на рынке 20 активов (N=20). По наблюдениям за  год оцените математические ожидания доходностей и матрицу ковариаций доходностей (используйте выборочную матрицу ковариаций).\n",
        "#### Найденные вектор средних и матрица ковариаций будут далее использованы в экспериментах как «истинные» вектор E=(E1, E2, …, EN) и матрица ковариаций (σi,j). Убедитесь, что матрица ковариаций невырожденная (если она близка к вырожденной, то измените состав активов). "
      ],
      "metadata": {
        "id": "b0AwuESdwJ4j"
      }
    },
    {
      "cell_type": "markdown",
      "source": [
        "Выберем 20 активов по коэффициенту Шарпа."
      ],
      "metadata": {
        "id": "-0Gx0QaEhfPO"
      }
    },
    {
      "cell_type": "code",
      "source": [
        "adj_close = pd.DataFrame() # adjusted closing price\n",
        "adj_close = data\n",
        "adj_close = (adj_close.assign(idx=adj_close.groupby('Name').cumcount())\n",
        "                 .pivot_table(index='Date', columns='Name', \n",
        "                              values='Adj Close', aggfunc='sum'))\n",
        "adj_close.reset_index(level=0, inplace=True)\n",
        "adj_close = adj_close.loc[:, :all_tickers[-1]:]\n",
        "\n",
        "adj_close = adj_close.dropna(axis=1, how='any') # revome missing values\n",
        "all_tickers = list(adj_close.columns)[1:]"
      ],
      "metadata": {
        "id": "cHFUY5MIgm-C"
      },
      "execution_count": 6,
      "outputs": []
    },
    {
      "cell_type": "code",
      "source": [
        "log_returns = pd.DataFrame()\n",
        "log_returns['Date'] = adj_close['Date']\n",
        "\n",
        "days = len(log_returns['Date'])\n",
        "for ticker in all_tickers:\n",
        "    for i in range(1, days):\n",
        "        log_returns.loc[i, ticker] = np.log(adj_close.loc[i, ticker]/adj_close.loc[i-1, ticker])\n",
        "\n",
        "log_returns = log_returns.drop([0])"
      ],
      "metadata": {
        "colab": {
          "base_uri": "https://localhost:8080/"
        },
        "id": "OxxHjfsvgp_K",
        "outputId": "0d9f9512-812b-46aa-cbcf-8b577ea97f9d"
      },
      "execution_count": 7,
      "outputs": [
        {
          "output_type": "stream",
          "name": "stderr",
          "text": [
            "/usr/local/lib/python3.8/dist-packages/pandas/core/indexing.py:1684: PerformanceWarning: DataFrame is highly fragmented.  This is usually the result of calling `frame.insert` many times, which has poor performance.  Consider joining all columns at once using pd.concat(axis=1) instead.  To get a de-fragmented frame, use `newframe = frame.copy()`\n",
            "  self.obj[key] = infer_fill_value(value)\n"
          ]
        }
      ]
    },
    {
      "cell_type": "code",
      "source": [
        "means = pd.DataFrame(columns=['mean'], index=all_tickers)\n",
        "stds = pd.DataFrame(columns=['std'], index=all_tickers)\n",
        "\n",
        "for ticker in all_tickers:\n",
        "    mean = np.mean(log_returns[ticker])\n",
        "    std = np.std(log_returns[ticker])\n",
        "    means['mean'][ticker] = mean\n",
        "    stds['std'][ticker] = std"
      ],
      "metadata": {
        "id": "ro3SQuhXgufu"
      },
      "execution_count": 8,
      "outputs": []
    },
    {
      "cell_type": "code",
      "source": [
        "sharpe_ratios100 = pd.DataFrame(means['mean'] * stds['std']**(-1), columns=['Sharpe ratio'], index=means.index)\n",
        "sharpe_ratios20 = sharpe_ratios100.sort_values(by=['Sharpe ratio'], ascending=False)[0:20]\n",
        "tickers = list(sharpe_ratios20.index)\n",
        "\n",
        "means = means.loc[tickers]\n",
        "stds = stds.loc[tickers]\n",
        "\n",
        "print(tickers)"
      ],
      "metadata": {
        "colab": {
          "base_uri": "https://localhost:8080/"
        },
        "id": "sO-MMNXMkbTE",
        "outputId": "f0926155-1f17-49cf-d45d-d5a8dd71093a"
      },
      "execution_count": 9,
      "outputs": [
        {
          "output_type": "stream",
          "name": "stdout",
          "text": [
            "['MWY', 'GAW', 'EAT', 'THRG', 'PPH', 'VEIL', 'ARR', 'EWI', 'IIT', 'RSW', 'ESCT', 'EMG', 'SSPG', 'BGS', 'HSL', 'JEDT', 'SDP', 'MTE', 'TRY', 'PHI']\n"
          ]
        }
      ]
    },
    {
      "cell_type": "code",
      "source": [
        "cov = pd.DataFrame(columns=tickers, index=tickers)\n",
        "\n",
        "count = 0\n",
        "for ticker_1 in tickers:\n",
        "  count += 1\n",
        "  for ticker_2 in tickers:\n",
        "      summ = 0\n",
        "      N = log_returns[ticker_2].shape[0]\n",
        "      for i in range(1,N+1):\n",
        "          summ += (log_returns[ticker_1][i] - float(means.loc[ticker_1])) * (log_returns[ticker_2][i] - float(means.loc[ticker_2]))\n",
        "      cov[ticker_1][ticker_2] = summ / N"
      ],
      "metadata": {
        "id": "NBIkZT0XTKO_"
      },
      "execution_count": 10,
      "outputs": []
    },
    {
      "cell_type": "code",
      "source": [
        "det = np.linalg.det(cov.to_numpy(dtype=float))\n",
        "if det == 0:\n",
        "    print(\"Матрица вырождена\", det)\n",
        "else:\n",
        "    print(\"Матрица невырождена, det =\", det)\n",
        "    \n",
        "cond = np.linalg.cond(cov.to_numpy(dtype=float))\n",
        "print(\"Число обусловленности =\", cond)"
      ],
      "metadata": {
        "colab": {
          "base_uri": "https://localhost:8080/"
        },
        "id": "ceTh2udqmMZr",
        "outputId": "0cad309c-cd77-430e-a380-ea36ada69c32"
      },
      "execution_count": 11,
      "outputs": [
        {
          "output_type": "stream",
          "name": "stdout",
          "text": [
            "Матрица невырождена, det = 2.4754234549166564e-86\n",
            "Число обусловленности = 114.39466801250784\n"
          ]
        }
      ]
    },
    {
      "cell_type": "markdown",
      "source": [
        "### Задание 1. Истинный оптимальный портфель в модели Марковица с заданным отношением к риску.\n",
        "\n",
        "Задана константа b. Решите задачу оптимизации\n",
        "\n",
        "$$ \\begin{cases}  \n",
        "    -E(x) + b\\sigma(x) \\rightarrow  min \\\\\n",
        "    \\sum x_i = 1 \\\\ \n",
        "    x_i > 0 \\quad \\forall i\n",
        "\\end{cases} $$\n",
        "\n",
        "\n",
        "(т.е. найдите оптимальный портфель с отношением к риску, равным b). Найдите и зафиксируйте веса портфеля и значение целевой функции.\n",
        "\n",
        "Здесь \n",
        "\n",
        "$$E(x)= E_1x_1+E_2x_2+…+E_Nx_N,$$\n",
        "\n",
        "$\\sigma^2(x)=\\sum\\sum \\sigma_{i, j} x_ix_j$\n",
        "\n",
        "Комментарий: использовать solver задач оптимизации для общих целевых функций, так как $\\sigma(x)= \\sqrt{\\sum\\sum \\sigma_{i, j} x_ix_j}$\n",
        "\n",
        "\n",
        "#### *Примечание*:\n",
        "Константа b подобрана таким образом, что истинный оптимальный CVaR портфель совпадает с истинным оптимальным портфелем п.1. Значение константы смотри в упражнениях к теме\n",
        " \n",
        "$ b = \\frac{1}{\\sqrt{2\\pi}}\\frac{1}{(1-\\beta)}\\exp{(\\frac{-(\\phi^{-1}(\\beta))^2}{2}})$"
      ],
      "metadata": {
        "id": "f3iu1R2olfOr"
      }
    },
    {
      "cell_type": "markdown",
      "source": [
        " \n",
        "Найдем константу $b$"
      ],
      "metadata": {
        "id": "HGol_1l33Cne"
      }
    },
    {
      "cell_type": "code",
      "source": [
        "beta = 0.95\n",
        "b = 1/(((2*math.pi)**0.5)*(1 - beta)) * math.exp(-((scipy.stats.norm.ppf(beta))**2)/2)\n",
        "print(f\"b = {b}\")"
      ],
      "metadata": {
        "colab": {
          "base_uri": "https://localhost:8080/"
        },
        "id": "LuE9nYCElqVh",
        "outputId": "78a71502-981b-4c80-b96b-2c74cc030356"
      },
      "execution_count": 12,
      "outputs": [
        {
          "output_type": "stream",
          "name": "stdout",
          "text": [
            "b = 2.0627128075074257\n"
          ]
        }
      ]
    },
    {
      "cell_type": "code",
      "source": [
        "def calc_utility_function(x, means, cov_mat, b):\n",
        "    return -calc_portfolio_return(x, means) + b * calc_portfolio_volatility(x, cov_mat)\n",
        "\n",
        "def find_optimal_portfolio(objective_function, args, n_stocks, decimals=4, short_sales=False):\n",
        "    x_initial = np.random.random(n_stocks)\n",
        "    x_initial = x_initial/np.sum(x_initial) # normilization\n",
        "    x_initial = np.array(x_initial)\n",
        "        \n",
        "    # bounds\n",
        "    constraints = [{'type': 'eq',\n",
        "                    'fun': lambda x: x.sum() - 1.0\n",
        "                   }]\n",
        "    x_bounds = []\n",
        "    if short_sales:\n",
        "        for i in range(n_stocks):\n",
        "            x_bounds.append((None, None))\n",
        "    else:\n",
        "        for i in range(n_stocks):\n",
        "            x_bounds.append((0, 1))        \n",
        "  \n",
        "    result = minimize(objective_function,\n",
        "                      x_initial, \n",
        "                      args=args,\n",
        "                      method='SLSQP', \n",
        "                      constraints=constraints,\n",
        "                      bounds=x_bounds, \n",
        "                      options={'maxiter':1000, 'disp': False},\n",
        "                      tol=1e-15 \n",
        "                    )\n",
        "    if result.success:\n",
        "        return np.around(result.x, decimals=decimals), result.fun\n",
        "    else:\n",
        "        print(\"Couldn't find minimum\")\n",
        "        return"
      ],
      "metadata": {
        "id": "bxsPSek4428N"
      },
      "execution_count": 13,
      "outputs": []
    },
    {
      "cell_type": "code",
      "source": [
        "x_opt, utility_function_opt = find_optimal_portfolio(calc_utility_function, \n",
        "                                                     (means, cov, b), \n",
        "                                                     n_stocks=means.shape[0], \n",
        "                                                     decimals=3, \n",
        "                                                     short_sales=False)"
      ],
      "metadata": {
        "id": "-5Qg0hLt7QLn"
      },
      "execution_count": 14,
      "outputs": []
    },
    {
      "cell_type": "code",
      "source": [
        "x_opt"
      ],
      "metadata": {
        "colab": {
          "base_uri": "https://localhost:8080/"
        },
        "id": "VYcX3NUCGNK9",
        "outputId": "791b2259-bf1c-4ad8-c8c7-6a0b01460b7a"
      },
      "execution_count": 15,
      "outputs": [
        {
          "output_type": "execute_result",
          "data": {
            "text/plain": [
              "array([0.529, 0.013, 0.049, 0.079, 0.033, 0.015, 0.206, 0.   , 0.   ,\n",
              "       0.   , 0.   , 0.009, 0.011, 0.   , 0.   , 0.   , 0.   , 0.02 ,\n",
              "       0.037, 0.   ])"
            ]
          },
          "metadata": {},
          "execution_count": 15
        }
      ]
    },
    {
      "cell_type": "code",
      "source": [
        "plt.figure(figsize=(15,6))\n",
        "plt.xlabel('Stocks')\n",
        "plt.ylabel('Weight')\n",
        "plt.bar(tickers, x_opt)\n",
        "plt.grid()\n",
        "plt.title('Portfolio weights')\n",
        "plt.show()"
      ],
      "metadata": {
        "colab": {
          "base_uri": "https://localhost:8080/",
          "height": 404
        },
        "id": "-huUFFO27Z82",
        "outputId": "7f9829f7-970f-43c0-cd5a-a07e5f8cb1ef"
      },
      "execution_count": 16,
      "outputs": [
        {
          "output_type": "display_data",
          "data": {
            "text/plain": [
              "<Figure size 1080x432 with 1 Axes>"
            ],
            "image/png": "[encoded data removed]"
          },
          "metadata": {
            "needs_background": "light"
          }
        }
      ]
    },
    {
      "cell_type": "markdown",
      "source": [
        "### Задание 2. Оценка неопределенности оптимального портфеля в модели Марковица с заданным отношением к риску."
      ],
      "metadata": {
        "id": "xLlzeTiul_xa"
      }
    },
    {
      "cell_type": "markdown",
      "source": [
        "#### 2.1\n",
        "Задайте число наблюдений $T=30$. С помощью генератора многомерного нормального распределения создайте выборку размера $Т$ из нормального распределения с вектором математических ожиданий $E=(E_1, E_2, …, E_N)$ и матрицей ковариаций $\\sigma_{i, j}$."
      ],
      "metadata": {
        "id": "tgOZfv02mFlX"
      }
    },
    {
      "cell_type": "code",
      "source": [
        "T = 30\n",
        "np.random.seed(47)\n",
        "log_returns_30 = np.random.multivariate_normal(means.to_numpy(dtype=float).T[0], cov.to_numpy(dtype=float), size=T) # генератор многомерного нормального распределения\n",
        "log_returns_30 = pd.DataFrame(data = log_returns_30, columns=tickers)\n",
        "# log_returns_30"
      ],
      "metadata": {
        "id": "DrGRtgjSmHxH"
      },
      "execution_count": 17,
      "outputs": []
    },
    {
      "cell_type": "markdown",
      "source": [
        "#### 2.2 \n",
        "По построенной выборке сделайте оценку $E_{est}$ вектора математических ожиданий и оценку $\\sigma_{est(i, j)}$ матрицы ковариаций. "
      ],
      "metadata": {
        "id": "0MkpOVjAmR9H"
      }
    },
    {
      "cell_type": "code",
      "source": [
        "means_30 = calc_sample_means(log_returns_30) # E_est\n",
        "cov_30 = calc_sample_cov(log_returns_30, means_30) # sigma_est"
      ],
      "metadata": {
        "id": "t5tkco-7mTf9"
      },
      "execution_count": null,
      "outputs": []
    },
    {
      "cell_type": "markdown",
      "source": [
        "#### 2.3 \n",
        "Используя эти оценки решите задачу оптимизации\n",
        "\n",
        "$\\begin{cases}  \n",
        "    -E_{est}(x) + b\\sigma_{est}(x) \\rightarrow  min \\\\\n",
        "    \\sum x_i = 1 \\\\ \n",
        "    x_i \\ge 0 \\quad \\forall i\n",
        "\\end{cases}$\n",
        "\n",
        "Здесь \n",
        "\n",
        "$E_{est}(x)= E_{est1}x_1+ E_{est2}x_2+…+ E_{estN}x_N ,$ \n",
        "\n",
        "$\\sigma_{est}^2(x) =\\sum\\sum \\sigma_{est (i, j)} x_ix_j$\n",
        "\n",
        "(т.е. найдите выборочный оптимальный портфель с отношением к риску, равным b). Найдите и зафиксируйте веса портфеля и значение целевой функции.\n"
      ],
      "metadata": {
        "id": "sWpkJ7V-mVl4"
      }
    },
    {
      "cell_type": "code",
      "source": [
        "x_opt_30, utility_function_opt_30 = find_optimal_portfolio(calc_utility_function, \n",
        "                                                          (means_30, cov_30, b), \n",
        "                                                          n_stocks=means_30.shape[0], \n",
        "                                                          decimals=3, \n",
        "                                                          short_sales=False)"
      ],
      "metadata": {
        "id": "_FnCM-B1g6dA"
      },
      "execution_count": 21,
      "outputs": []
    },
    {
      "cell_type": "code",
      "source": [
        "x_opt_30"
      ],
      "metadata": {
        "colab": {
          "base_uri": "https://localhost:8080/"
        },
        "outputId": "3b2c1819-d8bc-4d2a-a22a-555b6bf74119",
        "id": "_vd-A5eHg6dB"
      },
      "execution_count": 22,
      "outputs": [
        {
          "output_type": "execute_result",
          "data": {
            "text/plain": [
              "array([0.146, 0.048, 0.003, 0.   , 0.049, 0.   , 0.248, 0.   , 0.061,\n",
              "       0.003, 0.   , 0.003, 0.146, 0.   , 0.037, 0.   , 0.063, 0.   ,\n",
              "       0.194, 0.   ])"
            ]
          },
          "metadata": {},
          "execution_count": 22
        }
      ]
    },
    {
      "cell_type": "code",
      "source": [
        "plt.figure(figsize=(15,6))\n",
        "plt.xlabel('Stocks')\n",
        "plt.ylabel('Weight')\n",
        "plt.bar(tickers, x_opt_30)\n",
        "plt.grid()\n",
        "plt.title('Portfolio weights')\n",
        "plt.show()"
      ],
      "metadata": {
        "colab": {
          "base_uri": "https://localhost:8080/",
          "height": 404
        },
        "outputId": "3c2cbacd-7946-44ea-edc1-a82d77f57af4",
        "id": "_wFO8_91g6dC"
      },
      "execution_count": 23,
      "outputs": [
        {
          "output_type": "display_data",
          "data": {
            "text/plain": [
              "<Figure size 1080x432 with 1 Axes>"
            ],
            "image/png": "[encoded data removed]"
          },
          "metadata": {
            "needs_background": "light"
          }
        }
      ]
    },
    {
      "cell_type": "markdown",
      "source": [
        "#### 2.4 \n",
        "Сравните два портфеля: истинный (п.1) и выборочный (п.2.3). Оцените относительную ошибку в определении весов портфеля в норме Manhattan (L1 норма Минковского). Сделайте выводы. Сделайте сравнение в системе координат $(\\sigma, E)$. "
      ],
      "metadata": {
        "id": "A0Uv4nTNmcsv"
      }
    },
    {
      "cell_type": "markdown",
      "source": [
        "Из графиков видно, что в \"истинном\" портфеле наиболее важным является актив MWY (занимает более половины). А в случае с выборочным портфелем,было выделено 4 основных актива, которые имеют примерно одинаковый вес: ARR(0.25), TRY(0.2), MWY(0.15) и SSPG(0.15)."
      ],
      "metadata": {
        "id": "LU2h3Zdgiect"
      }
    },
    {
      "cell_type": "code",
      "source": [
        "x_opt_return = calc_portfolio_return(x_opt, means)\n",
        "x_opt_volatility = calc_portfolio_volatility(x_opt, cov)\n",
        "\n",
        "x_opt_30_return = calc_portfolio_return(x_opt_30, means)\n",
        "x_opt_30_volatility = calc_portfolio_volatility(x_opt_30, cov)"
      ],
      "metadata": {
        "id": "WNXdfeGUmeBO"
      },
      "execution_count": 24,
      "outputs": []
    },
    {
      "cell_type": "code",
      "source": [
        "fig, ax = plt.subplots(figsize=(15, 7))\n",
        "ax.axhline(linewidth=2, color='black')\n",
        "ax.axvline(linewidth=2, color='black')\n",
        "\n",
        "ax.scatter(x_opt_volatility, x_opt_return, color=\"g\", marker=\"+\", s=100, label=\"Истинный портфель\")    \n",
        "ax.scatter(x_opt_30_volatility, x_opt_30_return, color=\"r\", marker=\"+\", s=100, label=\"Выборочный портфель\")       \n",
        "\n",
        "ax.set_xlabel(\"Volatility\")\n",
        "ax.set_ylabel(\"Returns\")\n",
        "ax.grid()\n",
        "ax.legend()\n",
        "fig.show()\n",
        "\n",
        "print(\"Относительная ошибка в норме Manhattan составляет:\", calc_relative_cityblock_error(x_opt, x_opt_30))"
      ],
      "metadata": {
        "colab": {
          "base_uri": "https://localhost:8080/",
          "height": 459
        },
        "id": "fRmmoxKWj4_l",
        "outputId": "bbc2a009-4f76-402b-9923-a554c999f7fe"
      },
      "execution_count": 25,
      "outputs": [
        {
          "output_type": "stream",
          "name": "stdout",
          "text": [
            "Относительная ошибка в норме Manhattan составляет: 1.0969030969030968\n"
          ]
        },
        {
          "output_type": "display_data",
          "data": {
            "text/plain": [
              "<Figure size 1080x504 with 1 Axes>"
            ],
            "image/png": "[encoded data removed]"
          },
          "metadata": {
            "needs_background": "light"
          }
        }
      ]
    },
    {
      "cell_type": "markdown",
      "source": [
        "#### 2.5\n",
        "Повторите эксперимент $S=40$ раз и оцените среднюю относительную ошибку по $S$ повторениям эксперимента. Сделайте выводы.  Сделайте сравнение в системе координат $(\\sigma, E)$. "
      ],
      "metadata": {
        "id": "SAP_PagOmhPD"
      }
    },
    {
      "cell_type": "code",
      "source": [
        "S = 40\n",
        "\n",
        "# plot\n",
        "fig, ax = plt.subplots(figsize=(15, 7))\n",
        "ax.axhline(linewidth=2, color='black')\n",
        "ax.axvline(linewidth=2, color='black')\n",
        "ax.scatter(x_opt_volatility, x_opt_return, color=\"g\", marker=\"+\", s=100, label=\"Истинный портфель\")      \n",
        "\n",
        "# main loop\n",
        "x_opt_list = [] # оптимальные портфели для каждого из S экспериментов \n",
        "rel_errors = [] # относительные ошибки\n",
        "x_opt_40_returns = [] # доходность каждого из S портфелей\n",
        "x_opt_40_volatilities = [] # риск каждого из S портфелей\n",
        "\n",
        "for i in range(S):\n",
        "    # random log returns\n",
        "    log_returns_40 = np.random.multivariate_normal(means.to_numpy(dtype=float).T[0], cov.to_numpy(dtype=float), size=T)\n",
        "    log_returns_40 = pd.DataFrame(data = log_returns_40, columns=tickers)\n",
        "    \n",
        "    # calculate sample means and sample covariance matrix\n",
        "    means_40 = calc_sample_means(log_returns_40)\n",
        "    cov_40 = calc_sample_cov(log_returns_40, means_40, verbose=True)\n",
        "    \n",
        "    # find optimal portfolio\n",
        "    x_opt_40, utility_function_40_sample = find_optimal_portfolio(calc_utility_function, \n",
        "                                                     (means_40, cov_40, b), \n",
        "                                                     n_stocks=means_40.shape[0], \n",
        "                                                     decimals=3, \n",
        "                                                     short_sales=False)\n",
        "    \n",
        "    # calculate and store the value of error\n",
        "    rel_errors.append(calc_relative_cityblock_error(x_opt, x_opt_40)) \n",
        "    \n",
        "    # store return and volatility of an optimal portfolio\n",
        "    x_opt_40_returns.append(calc_portfolio_return(x_opt_40, means))\n",
        "    x_opt_40_volatilities.append(calc_portfolio_volatility(x_opt_40, cov))\n",
        "    \n",
        "    x_opt_list.append(np.array(x_opt_40))    \n",
        "    \n",
        "    # plot\n",
        "    ax.scatter(x_opt_40_volatilities[i], x_opt_40_returns[i], \n",
        "           color=\"black\", marker=\"o\", s=50)\n",
        "    \n",
        "x_opt_list = np.array(x_opt_list)\n",
        "\n",
        "# plot\n",
        "ax.scatter(np.array(x_opt_40_volatilities).mean(), np.array(x_opt_40_returns).mean(), \n",
        "           color=\"red\", marker=\"+\", s=100, label=f\"Усредненный выборочный портфель по {S} экспериментам\")\n",
        "\n",
        "ax.set_xlabel(\"Volatility\")\n",
        "ax.set_ylabel(\"Returns\")\n",
        "ax.grid()\n",
        "ax.legend()\n",
        "fig.show()\n",
        "\n",
        "first_error = np.array(rel_errors).mean()\n",
        "print(f\"Средняя относительная ошибка по {S} повторениям эксперимента: {np.array(rel_errors).mean()}\")\n"
      ],
      "metadata": {
        "colab": {
          "base_uri": "https://localhost:8080/",
          "height": 477
        },
        "id": "RTNYQ0iOmjD-",
        "outputId": "2fcf6ac9-2a6b-4e68-fdf7-14391bef2f05"
      },
      "execution_count": 26,
      "outputs": [
        {
          "output_type": "stream",
          "name": "stdout",
          "text": [
            "20/20\n",
            "Средняя относительная ошибка по 40 повторениям эксперимента: 0.6867132867132867\n"
          ]
        },
        {
          "output_type": "display_data",
          "data": {
            "text/plain": [
              "<Figure size 1080x504 with 1 Axes>"
            ],
            "image/png": "[encoded data removed]"
          },
          "metadata": {
            "needs_background": "light"
          }
        }
      ]
    },
    {
      "cell_type": "markdown",
      "source": [
        "#### 2.6  \n",
        "Предположите, что нам известны точные значения математических ожиданий $E=(E_1, E_2, …, E_N)$. Повторите пп. 2.2-2.5. используя оценку только матрицы ковариаций (т.е. решайте задачу оптимизации \n",
        "\n",
        "$\\begin{cases}  \n",
        "    -E(x) + b\\sigma_{est}(x) \\rightarrow  min \\\\\n",
        "    \\sum x_i = 1 \\\\ \n",
        "    x_i \\ge 0 \\quad \\forall i\n",
        "\\end{cases}$\n",
        "\n",
        "Здесь \n",
        "\n",
        "$E(x)= E_1x_1+E_2x_2+…+E_Nx_N, $\n",
        "\n",
        "$\\sigma_{est}^2(x) =\\sum\\sum \\sigma_{est (i, j)} x_ix_j$ )\n",
        "\n",
        "Сравните точность этих портфелей и портфелей п.2.3\n"
      ],
      "metadata": {
        "id": "tQ946rmWoKQ9"
      }
    },
    {
      "cell_type": "code",
      "source": [
        "x_opt_30_ist, utility_function_opt_30_ist = find_optimal_portfolio(calc_utility_function, \n",
        "                                                          (means, cov_30, b), \n",
        "                                                          n_stocks=means_30.shape[0], \n",
        "                                                          decimals=3, \n",
        "                                                          short_sales=False)"
      ],
      "metadata": {
        "id": "-PZZ3papoLuE"
      },
      "execution_count": 27,
      "outputs": []
    },
    {
      "cell_type": "code",
      "source": [
        "x_opt_30_ist"
      ],
      "metadata": {
        "colab": {
          "base_uri": "https://localhost:8080/"
        },
        "id": "BfpWzdVY3rrW",
        "outputId": "4af0f18d-faaf-4343-a622-2d36c84a1d12"
      },
      "execution_count": 28,
      "outputs": [
        {
          "output_type": "execute_result",
          "data": {
            "text/plain": [
              "array([0.222, 0.051, 0.014, 0.   , 0.064, 0.   , 0.178, 0.   , 0.042,\n",
              "       0.   , 0.   , 0.   , 0.135, 0.   , 0.035, 0.   , 0.049, 0.   ,\n",
              "       0.21 , 0.   ])"
            ]
          },
          "metadata": {},
          "execution_count": 28
        }
      ]
    },
    {
      "cell_type": "code",
      "source": [
        "plt.figure(figsize=(15,6))\n",
        "plt.xlabel('Stocks')\n",
        "plt.ylabel('Weight')\n",
        "plt.bar(tickers, x_opt_30_ist)\n",
        "plt.grid()\n",
        "plt.title('Portfolio weights')\n",
        "plt.show()"
      ],
      "metadata": {
        "colab": {
          "base_uri": "https://localhost:8080/",
          "height": 404
        },
        "id": "dqtXuUtG3xKg",
        "outputId": "8c55de01-246a-4a2e-93de-e64a53bc5105"
      },
      "execution_count": 29,
      "outputs": [
        {
          "output_type": "display_data",
          "data": {
            "text/plain": [
              "<Figure size 1080x432 with 1 Axes>"
            ],
            "image/png": "[encoded data removed]"
          },
          "metadata": {
            "needs_background": "light"
          }
        }
      ]
    },
    {
      "cell_type": "markdown",
      "source": [
        "Как в выборочном портфеле с истинной доходностью, так и в истинном портфеле наибольший вес имеет MWY. Однако в целом по распределению весов выборочный портфель с истинной доходностью больше похож на выборочный портфель, чем на истинный (те же 4 актива имеют наибольшие веса)."
      ],
      "metadata": {
        "id": "v2bN1XfR8R8x"
      }
    },
    {
      "cell_type": "code",
      "source": [
        "# расчеты доходности и риска\n",
        "x_opt_30_return_ist = calc_portfolio_return(x_opt_30_ist, means)\n",
        "x_opt_30_volatility_ist = calc_portfolio_volatility(x_opt_30_ist, cov)\n",
        "\n",
        "# plots\n",
        "fig, ax = plt.subplots(figsize=(15, 7))\n",
        "fig.suptitle(\"Истинный и выборочные портфели в системе координат (σ, E)\")\n",
        "ax.axhline(linewidth=2, color='black')\n",
        "ax.axvline(linewidth=2, color='black')\n",
        "\n",
        "ax.scatter(x_opt_volatility, x_opt_return, color=\"g\", marker=\"+\", s=100, label=\"Истинный портфель\")    \n",
        "ax.scatter(x_opt_30_volatility, x_opt_30_return, color=\"r\", marker=\"+\", s=100, label=\"Выборочный портфель\")       \n",
        "ax.scatter(x_opt_30_volatility_ist, x_opt_30_return_ist, color=\"blue\", marker=\"+\", s=100, label=\"Выборочный портфель c истинной средней доходностью\")       \n",
        "\n",
        "ax.set_xlabel(\"Volatility\")\n",
        "ax.set_ylabel(\"Returns\")\n",
        "ax.grid()\n",
        "ax.legend()\n",
        "fig.show()\n",
        "\n",
        "# manhattan error\n",
        "print(\"Относительная ошибка в норме Manhattan между истинным портфелем и выборочным портфелем:\", calc_relative_cityblock_error(x_opt, x_opt_30))\n",
        "print(\"Относительная ошибка в норме Manhattan между истинным портфелем и выборочным портфелем с истинной доходностью:\", calc_relative_cityblock_error(x_opt, x_opt_30_ist))\n"
      ],
      "metadata": {
        "colab": {
          "base_uri": "https://localhost:8080/",
          "height": 528
        },
        "id": "QlMkhDWC8-XR",
        "outputId": "033fcac4-e440-4e11-e499-cc409b68fcdd"
      },
      "execution_count": 30,
      "outputs": [
        {
          "output_type": "stream",
          "name": "stdout",
          "text": [
            "Относительная ошибка в норме Manhattan между истинным портфелем и выборочным портфелем: 1.0969030969030968\n",
            "Относительная ошибка в норме Manhattan между истинным портфелем и выборочным портфелем с истинной доходностью: 0.984015984015984\n"
          ]
        },
        {
          "output_type": "display_data",
          "data": {
            "text/plain": [
              "<Figure size 1080x504 with 1 Axes>"
            ],
            "image/png": "[encoded data removed]"
          },
          "metadata": {
            "needs_background": "light"
          }
        }
      ]
    },
    {
      "cell_type": "markdown",
      "source": [
        "Выборочный портфель и выборочный портфель с истинной доходностью практичестки не отличаютсяю"
      ],
      "metadata": {
        "id": "xePeOHJG-WHZ"
      }
    },
    {
      "cell_type": "code",
      "source": [
        "S = 40\n",
        "\n",
        "# plot\n",
        "fig, ax = plt.subplots(figsize=(15, 7))\n",
        "ax.axhline(linewidth=2, color='black')\n",
        "ax.axvline(linewidth=2, color='black')\n",
        "ax.scatter(x_opt_volatility, x_opt_return, color=\"blue\", marker=\"+\", s=100, label=\"Истинный портфель\")      \n",
        "\n",
        "# main loop\n",
        "x_opt_list = [] # оптимальные портфели для каждого из S экспериментов \n",
        "rel_errors = [] # относительные ошибки\n",
        "x_opt_40_returns = [] # доходность каждого из S портфелей\n",
        "x_opt_40_volatilities = [] # риск каждого из S портфелей\n",
        "\n",
        "x_opt_list_ist = [] # оптимальные портфели для каждого из S экспериментов \n",
        "rel_errors_ist = [] # относительные ошибки\n",
        "x_opt_40_returns_ist = [] # доходность каждого из S портфелей\n",
        "x_opt_40_volatilities_ist = [] # риск каждого из S портфелей\n",
        "\n",
        "for i in range(S):\n",
        "    # random log returns\n",
        "    log_returns_40 = np.random.multivariate_normal(means.to_numpy(dtype=float).T[0], cov.to_numpy(dtype=float), size=T)\n",
        "    log_returns_40 = pd.DataFrame(data = log_returns_40, columns=tickers)\n",
        "    \n",
        "    # calculate sample means and sample covariance matrix\n",
        "    means_40 = calc_sample_means(log_returns_40)\n",
        "    cov_40 = calc_sample_cov(log_returns_40, means_40, verbose=True)\n",
        "    \n",
        "    # find optimal portfolio\n",
        "    x_opt_40, utility_function_40_sample = find_optimal_portfolio(calc_utility_function, \n",
        "                                                     (means_40, cov_40, b), \n",
        "                                                     n_stocks=means_40.shape[0], \n",
        "                                                     decimals=3, \n",
        "                                                     short_sales=False)\n",
        "    x_opt_40_ist, utility_function_40_sample_ist = find_optimal_portfolio(calc_utility_function, \n",
        "                                                     (means, cov_40, b), \n",
        "                                                     n_stocks=means_40.shape[0], \n",
        "                                                     decimals=3, \n",
        "                                                     short_sales=False)\n",
        "    \n",
        "    # calculate and store the value of error\n",
        "    rel_errors.append(calc_relative_cityblock_error(x_opt, x_opt_40)) \n",
        "    rel_errors_ist.append(calc_relative_cityblock_error(x_opt, x_opt_40_ist)) \n",
        "    \n",
        "    # store return and volatility of an optimal portfolio\n",
        "    x_opt_40_returns.append(calc_portfolio_return(x_opt_40, means))\n",
        "    x_opt_40_volatilities.append(calc_portfolio_volatility(x_opt_40, cov))\n",
        "\n",
        "    x_opt_40_returns_ist.append(calc_portfolio_return(x_opt_40_ist, means))\n",
        "    x_opt_40_volatilities_ist.append(calc_portfolio_volatility(x_opt_40_ist, cov))\n",
        "    \n",
        "    x_opt_list.append(np.array(x_opt_40))\n",
        "    x_opt_list_ist.append(np.array(x_opt_40_ist))    \n",
        "    \n",
        "    # plot\n",
        "    ax.scatter(x_opt_40_volatilities[i], x_opt_40_returns[i], \n",
        "           color=\"red\", marker=\"o\", s=50)\n",
        "    ax.scatter(x_opt_40_volatilities_ist[i], x_opt_40_returns_ist[i], \n",
        "           color=\"green\", marker=\"o\", s=50)\n",
        "    \n",
        "x_opt_list = np.array(x_opt_list)\n",
        "x_opt_list_ist = np.array(x_opt_list_ist)\n",
        "\n",
        "# plot\n",
        "ax.scatter(np.array(x_opt_40_volatilities).mean(), np.array(x_opt_40_returns).mean(), \n",
        "           color=\"red\", marker=\"+\", s=100, label=f\"Усредненный выборочный портфель по {S} экспериментам\")\n",
        "ax.scatter(np.array(x_opt_40_volatilities_ist).mean(), np.array(x_opt_40_returns_ist).mean(), \n",
        "           color=\"green\", marker=\"+\", s=100, label=f\"Усредненный выборочный портфель c истинной доходностью по {S} экспериментам\")\n",
        "\n",
        "ax.set_xlabel(\"Volatility\")\n",
        "ax.set_ylabel(\"Returns\")\n",
        "ax.grid()\n",
        "ax.legend()\n",
        "fig.show()\n",
        "\n",
        "first_error = np.array(rel_errors).mean()\n",
        "print(f\"Средняя относительная ошибка по {S} повторениям эксперимента: {np.array(rel_errors).mean()}\")\n",
        "print(f\"Средняя относительная ошибка по {S} повторениям эксперимента для выборочного портфеля с истинной доходностью: {np.array(rel_errors_ist).mean()}\")\n"
      ],
      "metadata": {
        "colab": {
          "base_uri": "https://localhost:8080/",
          "height": 494
        },
        "id": "B0_fLF1v-tps",
        "outputId": "82329f93-cfb2-41cc-8ab8-5fa72654427a"
      },
      "execution_count": 31,
      "outputs": [
        {
          "output_type": "stream",
          "name": "stdout",
          "text": [
            "20/20\n",
            "Средняя относительная ошибка по 40 повторениям эксперимента: 0.7211288711288711\n",
            "Средняя относительная ошибка по 40 повторениям эксперимента для выборочного портфеля с истинной доходностью: 0.6075674325674326\n"
          ]
        },
        {
          "output_type": "display_data",
          "data": {
            "text/plain": [
              "<Figure size 1080x504 with 1 Axes>"
            ],
            "image/png": "[encoded data removed]"
          },
          "metadata": {
            "needs_background": "light"
          }
        }
      ]
    },
    {
      "cell_type": "markdown",
      "source": [
        "### Задание 3. Оценка неопределенности оптимального CVaR портфеля "
      ],
      "metadata": {
        "id": "TeAazc8loS6A"
      }
    },
    {
      "cell_type": "markdown",
      "source": [
        "#### 3.1 \n",
        "Уровень значимости $β$ выбран $0,95$. Число наблюдений $T$. Используя сгенерированные наблюдения из п.2.1 решите задачу ЛП для определения оптимального $CVaR_β$ портфеля.  Найдите и зафиксируйте веса портфеля и значение целевой функции $CVaR_β$.  "
      ],
      "metadata": {
        "id": "azjRAJkMoYRM"
      }
    },
    {
      "cell_type": "code",
      "source": [
        "returns30 = log_returns_30.to_numpy() #sample generated in task 2.1\n",
        "T = returns30.shape[0]\n",
        "N = returns30.shape[1]\n",
        "beta = 0.95 #significance level\n",
        "\n",
        "def obj_func(vec_ut_x_alpha, T, beta):\n",
        "    return vec_ut_x_alpha[N+T] + 1/(T-T*beta)*np.sum(vec_ut_x_alpha[:T])\n",
        "\n",
        "def func(vec_ut_x_alpha, returns30, t): #RX + alpha + ut\n",
        "    RX = np.dot(returns30[t], vec_ut_x_alpha[T:N+T])\n",
        "    return RX + vec_ut_x_alpha[N+T] + vec_ut_x_alpha[t]\n",
        "\n",
        "def CVaR_optimization(beta, returns30, func):\n",
        "    alpha  = 0 \n",
        "    x = np.ones(N)/N\n",
        "    ut = - np.dot(returns30,  x) - alpha #dummy variables\n",
        "    \n",
        "    vec_ut_x_alpha = np.zeros(N+T+1)\n",
        "    vec_ut_x_alpha[:T] = ut\n",
        "    vec_ut_x_alpha[T:N+T] = x\n",
        "    vec_ut_x_alpha[N+T] = alpha\n",
        "    \n",
        "    alpha_bound = ((-inf, inf),)\n",
        "    x_bound = ((0, 1.1),)*N \n",
        "    ut_bound = ((0, inf),)*T \n",
        "    \n",
        "    constraints = list()\n",
        "    constraints.append({'type': 'eq', 'fun': lambda x: sum(x[T:N+T])-1}) #sum(xi) = 1\n",
        "    \n",
        "    for t in range(0, T):\n",
        "        constraints.append({'type': 'ineq', 'fun': func, 'args': (returns30, t)}) #RX + alpha + ut >= 0\n",
        "\n",
        "    return minimize(obj_func, vec_ut_x_alpha, args=(T, beta), method='SLSQP', #МНК\n",
        "                    constraints=constraints, bounds=ut_bound+x_bound+alpha_bound).x"
      ],
      "metadata": {
        "id": "0t5XYj0eobHh"
      },
      "execution_count": 32,
      "outputs": []
    },
    {
      "cell_type": "code",
      "source": [
        "ans = CVaR_optimization(beta, returns30, func)\n",
        "weights_cvar = ans[T:N+T]\n",
        "cvar_alpha  = round(ans[N+T], 5)"
      ],
      "metadata": {
        "id": "BV02HYupDhXQ"
      },
      "execution_count": 33,
      "outputs": []
    },
    {
      "cell_type": "code",
      "source": [
        "weights_cvar"
      ],
      "metadata": {
        "colab": {
          "base_uri": "https://localhost:8080/"
        },
        "id": "gNgpjqMcDlN7",
        "outputId": "67b8ddb0-9170-465d-b3a0-4e726c4065e4"
      },
      "execution_count": 34,
      "outputs": [
        {
          "output_type": "execute_result",
          "data": {
            "text/plain": [
              "array([3.54778423e-02, 5.80474194e-02, 4.02468922e-02, 0.00000000e+00,\n",
              "       7.36061760e-02, 2.62941710e-02, 2.42208952e-01, 0.00000000e+00,\n",
              "       6.14304490e-02, 0.00000000e+00, 0.00000000e+00, 0.00000000e+00,\n",
              "       1.26418016e-01, 0.00000000e+00, 5.17165331e-02, 1.64055356e-04,\n",
              "       6.14751456e-02, 0.00000000e+00, 2.22914348e-01, 6.22559135e-16])"
            ]
          },
          "metadata": {},
          "execution_count": 34
        }
      ]
    },
    {
      "cell_type": "code",
      "source": [
        "print('Alpha полученного CVaR портфеля:' , cvar_alpha)"
      ],
      "metadata": {
        "colab": {
          "base_uri": "https://localhost:8080/"
        },
        "id": "U8jY2t1QDpj-",
        "outputId": "48893e2f-bbe3-4182-e3a3-fb61de11e948"
      },
      "execution_count": 35,
      "outputs": [
        {
          "output_type": "stream",
          "name": "stdout",
          "text": [
            "Alpha полученного CVaR портфеля: -0.00054\n"
          ]
        }
      ]
    },
    {
      "cell_type": "code",
      "source": [
        "plt.figure(figsize=(15,6))\n",
        "plt.xlabel('Stocks')\n",
        "plt.ylabel('Weight')\n",
        "plt.bar(tickers, weights_cvar)\n",
        "plt.grid()\n",
        "plt.title('Portfolio weights')\n",
        "plt.show()"
      ],
      "metadata": {
        "colab": {
          "base_uri": "https://localhost:8080/",
          "height": 404
        },
        "id": "7o7o4pGYDtru",
        "outputId": "41352d0a-34bf-4c93-d50c-dde75fe3696f"
      },
      "execution_count": 36,
      "outputs": [
        {
          "output_type": "display_data",
          "data": {
            "text/plain": [
              "<Figure size 1080x432 with 1 Axes>"
            ],
            "image/png": "[encoded data removed]"
          },
          "metadata": {
            "needs_background": "light"
          }
        }
      ]
    },
    {
      "cell_type": "markdown",
      "source": [
        "#### 3.2 \n",
        "Сравните два портфеля: истинный (п.1) и найденный в п.3.1.  Оцените относительную ошибку в определении весов портфеля в норме Manhattan (L1 норма Минковского). Сравните с ошибкой портфеля из п. 2.3"
      ],
      "metadata": {
        "id": "Q34cd8pVoeBY"
      }
    },
    {
      "cell_type": "code",
      "source": [
        "plt.figure(figsize=(15,6))\n",
        "plt.xlabel('Stocks')\n",
        "plt.ylabel('Weight')\n",
        "plt.bar(tickers, x_opt)\n",
        "plt.grid()\n",
        "plt.show()\n",
        "\n",
        "plt.figure(figsize=(15,6))\n",
        "plt.xlabel('Stocks')\n",
        "plt.ylabel('Weight')\n",
        "plt.bar(tickers, weights_cvar)\n",
        "plt.grid()\n",
        "plt.show()"
      ],
      "metadata": {
        "colab": {
          "base_uri": "https://localhost:8080/",
          "height": 759
        },
        "id": "Kqry2cYhofH-",
        "outputId": "7aae1ca7-c744-4fd5-80ad-098009b01af8"
      },
      "execution_count": 37,
      "outputs": [
        {
          "output_type": "display_data",
          "data": {
            "text/plain": [
              "<Figure size 1080x432 with 1 Axes>"
            ],
            "image/png": "[encoded data removed]"
          },
          "metadata": {
            "needs_background": "light"
          }
        },
        {
          "output_type": "display_data",
          "data": {
            "text/plain": [
              "<Figure size 1080x432 with 1 Axes>"
            ],
            "image/png": "[encoded data removed]"
          },
          "metadata": {
            "needs_background": "light"
          }
        }
      ]
    },
    {
      "cell_type": "markdown",
      "source": [
        "Портфели имеют крайне разное распределение весов. В первом случае большую часть занимает MWY, а во втором - ARR и TRY."
      ],
      "metadata": {
        "id": "FnwxwzhsFaKh"
      }
    },
    {
      "cell_type": "code",
      "source": [
        "norm1 = calc_relative_cityblock_error(x_opt,  x_opt_30)\n",
        "norm2 = calc_relative_cityblock_error(x_opt, weights_cvar)\n",
        "\n",
        "print('Относительная ошибка в норме Manhattan для портфеля из п.2.3 :', norm1)\n",
        "print('Относительная ошибка в норме Manhattan для портфеля, полученного с помощью CVaR_optimization:', norm2)"
      ],
      "metadata": {
        "colab": {
          "base_uri": "https://localhost:8080/"
        },
        "id": "5b8FJoLBGAR2",
        "outputId": "43beb5f1-6799-4153-d2fd-739f8269c7f4"
      },
      "execution_count": 38,
      "outputs": [
        {
          "output_type": "stream",
          "name": "stdout",
          "text": [
            "Относительная ошибка в норме Manhattan для портфеля из п.2.3 : 1.0969030969030968\n",
            "Относительная ошибка в норме Manhattan для портфеля, полученного с помощью CVaR_optimization: 1.2183321987114821\n"
          ]
        }
      ]
    },
    {
      "cell_type": "markdown",
      "source": [
        "#### 3.3\n",
        "Повторите эксперимент $S$ раз и оцените среднюю относительную ошибку по S повторениям эксперимента. Сделайте выводы.  Сравните с ошибкой из п. 2.5 "
      ],
      "metadata": {
        "id": "13WT7ttGojXQ"
      }
    },
    {
      "cell_type": "code",
      "source": [
        "S = 40\n",
        "\n",
        "# plot\n",
        "fig, ax = plt.subplots(figsize=(15, 7))\n",
        "ax.axhline(linewidth=2, color='black')\n",
        "ax.axvline(linewidth=2, color='black')\n",
        "ax.scatter(x_opt_volatility, x_opt_return, color=\"blue\", marker=\"+\", s=100, label=\"Истинный портфель\")      \n",
        "\n",
        "# main loop\n",
        "x_opt_list = [] # оптимальные портфели для каждого из S экспериментов \n",
        "rel_errors = [] # относительные ошибки\n",
        "x_opt_40_returns = [] # доходность каждого из S портфелей\n",
        "x_opt_40_volatilities = [] # риск каждого из S портфелей\n",
        "\n",
        "x_opt_list_2 = [] # оптимальные портфели для каждого из S экспериментов \n",
        "rel_errors_2 = [] # относительные ошибки\n",
        "x_opt_40_returns_2 = [] # доходность каждого из S портфелей\n",
        "x_opt_40_volatilities_2 = [] # риск каждого из S портфелей\n",
        "\n",
        "for i in range(S):\n",
        "    # random log returns\n",
        "    log_returns_40 = np.random.multivariate_normal(means.to_numpy(dtype=float).T[0], cov.to_numpy(dtype=float), size=T)\n",
        "    log_returns_40 = pd.DataFrame(data = log_returns_40, columns=tickers)\n",
        "    returns30 = log_returns_40.to_numpy()\n",
        "    ans = CVaR_optimization(beta, returns30, func)\n",
        "    x_opt_r_sample = ans[T:N+T]\n",
        "    cvar_alpha  = round(ans[N+T], 5)\n",
        "    \n",
        "    # calculate sample means and sample covariance matrix\n",
        "    means_40 = calc_sample_means(log_returns_40)\n",
        "    cov_40 = calc_sample_cov(log_returns_40, means_40, verbose=True)\n",
        "    \n",
        "    # find optimal portfolio\n",
        "    x_opt_40_2, utility_function_40_sample_2 = find_optimal_portfolio(calc_utility_function, \n",
        "                                                     (means_40, cov_40, b), \n",
        "                                                     n_stocks=means_40.shape[0], \n",
        "                                                     decimals=3, \n",
        "                                                     short_sales=False)\n",
        "    \n",
        "    means_40 = calc_sample_means(log_returns_40)\n",
        "    cov_40 = calc_sample_cov(log_returns_40, means_40, verbose=True)\n",
        "    \n",
        "    # calculate and store the value of error\n",
        "    rel_errors.append(calc_relative_cityblock_error(x_opt, x_opt_40)) \n",
        "    rel_errors_2.append(calc_relative_cityblock_error(x_opt, x_opt_40_2)) \n",
        "    \n",
        "    # store return and volatility of an optimal portfolio\n",
        "    x_opt_40_returns.append(calc_portfolio_return(x_opt_40, means))\n",
        "    x_opt_40_volatilities.append(calc_portfolio_volatility(x_opt_40, cov))\n",
        "\n",
        "    x_opt_40_returns_2.append(calc_portfolio_return(x_opt_40_2, means))\n",
        "    x_opt_40_volatilities_2.append(calc_portfolio_volatility(x_opt_40_2, cov))\n",
        "    \n",
        "    x_opt_list.append(np.array(x_opt_40))\n",
        "    x_opt_list_2.append(np.array(x_opt_40_2))    \n",
        "    \n",
        "    # plot\n",
        "    # ax.scatter(x_opt_40_volatilities[i], x_opt_40_returns[i], \n",
        "    #        color=\"red\", marker=\"o\", s=50)\n",
        "    # ax.scatter(x_opt_40_volatilities_2[i], x_opt_40_returns_2[i], \n",
        "    #        color=\"green\", marker=\"o\", s=50)\n",
        "    \n",
        "x_opt_list = np.array(x_opt_list)\n",
        "x_opt_list_2 = np.array(x_opt_list_2)\n",
        "\n",
        "# plot\n",
        "ax.scatter(np.array(x_opt_40_volatilities).mean(), np.array(x_opt_40_returns).mean(), \n",
        "           color=\"red\", marker=\"+\", s=100, label=f\"Выборочный CVaR портфель по {S} экспериментам\")\n",
        "ax.scatter(np.array(x_opt_40_volatilities_2).mean(), np.array(x_opt_40_returns_2).mean(), \n",
        "           color=\"green\", marker=\"+\", s=100, label=f\"Выборочный портфель по {S} экспериментам\")\n",
        "\n",
        "ax.set_xlabel(\"Volatility\")\n",
        "ax.set_ylabel(\"Returns\")\n",
        "ax.grid()\n",
        "ax.legend()\n",
        "fig.show()\n",
        "\n",
        "print(f\"Средняя относительная ошибка по {S} повторениям эксперимента CVaR портфеля: {np.array(rel_errors).mean()}  \")\n",
        "print(f\"Средняя относительная ошибка по {S} повторениям эксперимента из 2.5: {np.array(rel_errors_2).mean()}  \")"
      ],
      "metadata": {
        "colab": {
          "base_uri": "https://localhost:8080/",
          "height": 494
        },
        "id": "w7fcOs2tok_k",
        "outputId": "bc6cc78c-2840-4f83-d502-be2d528c79c1"
      },
      "execution_count": 39,
      "outputs": [
        {
          "output_type": "stream",
          "name": "stdout",
          "text": [
            "20/20\n",
            "Средняя относительная ошибка по 40 повторениям эксперимента CVaR портфеля: 0.8351648351648352  \n",
            "Средняя относительная ошибка по 40 повторениям эксперимента из 2.5: 0.747952047952048  \n"
          ]
        },
        {
          "output_type": "display_data",
          "data": {
            "text/plain": [
              "<Figure size 1080x504 with 1 Axes>"
            ],
            "image/png": "[encoded data removed]"
          },
          "metadata": {
            "needs_background": "light"
          }
        }
      ]
    }
  ]
}